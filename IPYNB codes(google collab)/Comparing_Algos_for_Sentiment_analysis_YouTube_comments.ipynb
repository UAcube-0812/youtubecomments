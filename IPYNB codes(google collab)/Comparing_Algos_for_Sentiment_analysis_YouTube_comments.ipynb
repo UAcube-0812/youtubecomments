{
  "cells": [
    {
      "cell_type": "markdown",
      "metadata": {
        "id": "view-in-github",
        "colab_type": "text"
      },
      "source": [
        "<a href=\"https://colab.research.google.com/github/aviralwalia08/youtubecomments/blob/main/Comparing_Algos_for_Sentiment_analysis_YouTube_comments.ipynb\" target=\"_parent\"><img src=\"https://colab.research.google.com/assets/colab-badge.svg\" alt=\"Open In Colab\"/></a>"
      ]
    },
    {
      "cell_type": "markdown",
      "id": "2a330746",
      "metadata": {
        "id": "2a330746"
      },
      "source": [
        "# Importing Required Libraries"
      ]
    },
    {
      "cell_type": "code",
      "execution_count": null,
      "id": "9d5ba242",
      "metadata": {
        "id": "9d5ba242",
        "outputId": "99dc0b76-069b-4432-e9dd-ab363f020a86"
      },
      "outputs": [
        {
          "name": "stderr",
          "output_type": "stream",
          "text": [
            "[nltk_data] Downloading package vader_lexicon to\n",
            "[nltk_data]     C:\\Users\\avira\\AppData\\Roaming\\nltk_data...\n",
            "[nltk_data]   Package vader_lexicon is already up-to-date!\n"
          ]
        }
      ],
      "source": [
        "import pandas as pd\n",
        "import numpy as np\n",
        "import matplotlib.pyplot as plt\n",
        "import seaborn as sns\n",
        "import re\n",
        "from transformers import AutoTokenizer\n",
        "from transformers import AutoModelForSequenceClassification\n",
        "from scipy.special import softmax\n",
        "import nltk\n",
        "nltk.downloader.download('vader_lexicon')\n",
        "from nltk.sentiment import SentimentIntensityAnalyzer\n",
        "from tqdm.notebook import tqdm"
      ]
    },
    {
      "cell_type": "markdown",
      "id": "0638432d",
      "metadata": {
        "id": "0638432d"
      },
      "source": [
        "# Reading Data File"
      ]
    },
    {
      "cell_type": "code",
      "execution_count": null,
      "id": "f84e86a5",
      "metadata": {
        "colab": {
          "base_uri": "https://localhost:8080/"
        },
        "id": "f84e86a5",
        "outputId": "55ed02e6-5596-4d30-d86a-bba3b2c5a2cd"
      },
      "outputs": [
        {
          "name": "stdout",
          "output_type": "stream",
          "text": [
            "(111965, 6)\n"
          ]
        }
      ],
      "source": [
        "df = pd.read_pickle('lowest_grossing_movies.pkl')\n",
        "print(df.shape)\n"
      ]
    },
    {
      "cell_type": "code",
      "execution_count": null,
      "id": "81fe45ce",
      "metadata": {
        "colab": {
          "base_uri": "https://localhost:8080/"
        },
        "id": "81fe45ce",
        "outputId": "7eb6cf91-a1e5-4791-d9ce-850b1b00de9b"
      },
      "outputs": [
        {
          "data": {
            "text/plain": [
              "array(['Amsterdam', 'The Last Duel', 'West Side Story', 'Mortal Engines',\n",
              "       'Pan', 'Jupiter Ascending', 'Strange World', 'Moonfall', 'Cats',\n",
              "       'Monster Truck'], dtype=object)"
            ]
          },
          "execution_count": 3,
          "metadata": {},
          "output_type": "execute_result"
        }
      ],
      "source": [
        "df.movie_name.unique()"
      ]
    },
    {
      "cell_type": "markdown",
      "id": "1942708b",
      "metadata": {
        "id": "1942708b"
      },
      "source": [
        "# Cleaning the Youtube Comments (Text) Column"
      ]
    },
    {
      "cell_type": "code",
      "execution_count": null,
      "id": "1c9584a5",
      "metadata": {
        "id": "1c9584a5"
      },
      "outputs": [],
      "source": [
        "def clean_data(df, column):\n",
        "    '''\n",
        "    df: Dataframe containing uncleaned column\n",
        "    column : Text column that you want to be cleaned\n",
        "    '''\n",
        "    # This pattern keeps alphanumeric characters (a-z, A-Z, 0-9) and special characters\n",
        "    pattern = r'[^a-zA-Z0-9!@$%^&,.?\\s]'\n",
        "    df[column] = df[column].apply(lambda x: re.sub(pattern, '', str(x)))\n",
        "\n",
        "    #removing new line character\n",
        "    df[column] = df[column].str.replace('\\n', ' ')\n",
        "\n",
        "    # This pattern matches strings that contain only special characters or only numbers\n",
        "    pattern_2 = r'^[^a-zA-Z]*$'\n",
        "\n",
        "    # Remove rows where the column's value matches the pattern\n",
        "    df = df[~df[column].apply(lambda x: bool(re.match(pattern_2, str(x))))]\n",
        "    return df"
      ]
    },
    {
      "cell_type": "code",
      "execution_count": null,
      "id": "6053cca0",
      "metadata": {
        "id": "6053cca0"
      },
      "outputs": [],
      "source": [
        "cleaned_movies_df = clean_data(df, 'text')"
      ]
    },
    {
      "cell_type": "code",
      "execution_count": null,
      "id": "bd61b83f",
      "metadata": {
        "id": "bd61b83f"
      },
      "outputs": [],
      "source": [
        "df=df.reset_index(drop=True)"
      ]
    },
    {
      "cell_type": "code",
      "execution_count": null,
      "id": "07f3ee5a",
      "metadata": {
        "colab": {
          "base_uri": "https://localhost:8080/",
          "height": 206
        },
        "id": "07f3ee5a",
        "outputId": "c4644563-79ae-4616-e35b-07772cd9caf1"
      },
      "outputs": [
        {
          "data": {
            "text/html": [
              "<div>\n",
              "<style scoped>\n",
              "    .dataframe tbody tr th:only-of-type {\n",
              "        vertical-align: middle;\n",
              "    }\n",
              "\n",
              "    .dataframe tbody tr th {\n",
              "        vertical-align: top;\n",
              "    }\n",
              "\n",
              "    .dataframe thead th {\n",
              "        text-align: right;\n",
              "    }\n",
              "</style>\n",
              "<table border=\"1\" class=\"dataframe\">\n",
              "  <thead>\n",
              "    <tr style=\"text-align: right;\">\n",
              "      <th></th>\n",
              "      <th>author</th>\n",
              "      <th>updated_at</th>\n",
              "      <th>like_count</th>\n",
              "      <th>text</th>\n",
              "      <th>public</th>\n",
              "      <th>movie_name</th>\n",
              "    </tr>\n",
              "  </thead>\n",
              "  <tbody>\n",
              "    <tr>\n",
              "      <th>0</th>\n",
              "      <td>@IDreamElectricSheep</td>\n",
              "      <td>2023-12-11T10:36:29Z</td>\n",
              "      <td>0</td>\n",
              "      <td>20th century fox couldnt even higher a proper ...</td>\n",
              "      <td>True</td>\n",
              "      <td>Amsterdam</td>\n",
              "    </tr>\n",
              "    <tr>\n",
              "      <th>1</th>\n",
              "      <td>@lmcgready</td>\n",
              "      <td>2023-12-10T18:20:54Z</td>\n",
              "      <td>0</td>\n",
              "      <td>SUPERB!!!!</td>\n",
              "      <td>True</td>\n",
              "      <td>Amsterdam</td>\n",
              "    </tr>\n",
              "    <tr>\n",
              "      <th>2</th>\n",
              "      <td>@nmarks</td>\n",
              "      <td>2023-12-08T18:12:28Z</td>\n",
              "      <td>1</td>\n",
              "      <td>Recommended. The movie comes into sharp focus ...</td>\n",
              "      <td>True</td>\n",
              "      <td>Amsterdam</td>\n",
              "    </tr>\n",
              "    <tr>\n",
              "      <th>3</th>\n",
              "      <td>@user-qk7ny7xy9r</td>\n",
              "      <td>2023-12-08T12:50:59Z</td>\n",
              "      <td>0</td>\n",
              "      <td>nice</td>\n",
              "      <td>True</td>\n",
              "      <td>Amsterdam</td>\n",
              "    </tr>\n",
              "    <tr>\n",
              "      <th>4</th>\n",
              "      <td>@lakshanchamod1208</td>\n",
              "      <td>2023-12-02T12:17:35Z</td>\n",
              "      <td>0</td>\n",
              "      <td></td>\n",
              "      <td>True</td>\n",
              "      <td>Amsterdam</td>\n",
              "    </tr>\n",
              "  </tbody>\n",
              "</table>\n",
              "</div>"
            ],
            "text/plain": [
              "                 author            updated_at  like_count  \\\n",
              "0  @IDreamElectricSheep  2023-12-11T10:36:29Z           0   \n",
              "1            @lmcgready  2023-12-10T18:20:54Z           0   \n",
              "2               @nmarks  2023-12-08T18:12:28Z           1   \n",
              "3      @user-qk7ny7xy9r  2023-12-08T12:50:59Z           0   \n",
              "4    @lakshanchamod1208  2023-12-02T12:17:35Z           0   \n",
              "\n",
              "                                                text  public movie_name  \n",
              "0  20th century fox couldnt even higher a proper ...    True  Amsterdam  \n",
              "1                                         SUPERB!!!!    True  Amsterdam  \n",
              "2  Recommended. The movie comes into sharp focus ...    True  Amsterdam  \n",
              "3                                               nice    True  Amsterdam  \n",
              "4                                                       True  Amsterdam  "
            ]
          },
          "execution_count": 7,
          "metadata": {},
          "output_type": "execute_result"
        }
      ],
      "source": [
        "df.head()"
      ]
    },
    {
      "cell_type": "code",
      "execution_count": null,
      "id": "d221ed85",
      "metadata": {
        "colab": {
          "base_uri": "https://localhost:8080/"
        },
        "id": "d221ed85",
        "outputId": "0b132abf-85db-4c5c-e245-dcb7a1872721"
      },
      "outputs": [
        {
          "data": {
            "text/plain": [
              "(111965, 6)"
            ]
          },
          "execution_count": 8,
          "metadata": {},
          "output_type": "execute_result"
        }
      ],
      "source": [
        "df.shape"
      ]
    },
    {
      "cell_type": "markdown",
      "id": "d79810f3",
      "metadata": {
        "id": "d79810f3"
      },
      "source": [
        "# Subsetting 700 Comments for each video (Randomly)"
      ]
    },
    {
      "cell_type": "code",
      "execution_count": null,
      "id": "6d5bae33",
      "metadata": {
        "id": "6d5bae33"
      },
      "outputs": [],
      "source": [
        "def subsetting_df(cleaned_movies_df,number_of_comments):\n",
        "    '''\n",
        "    cleaned_movies_df : Dataframe containing all the movies and comments\n",
        "    number_of_comments : Numbers of comments of ewach movie you want to subset\n",
        "    '''\n",
        "    movie_df = pd.DataFrame()\n",
        "    for movie in cleaned_movies_df.movie_name.unique():\n",
        "        temp_df = df[df['movie_name'] == movie]\n",
        "        temp_df = temp_df.sample(number_of_comments,replace=True)\n",
        "        movie_df = pd.concat([movie_df,temp_df])\n",
        "    return movie_df\n",
        ""
      ]
    },
    {
      "cell_type": "code",
      "execution_count": null,
      "id": "2bb2ab51",
      "metadata": {
        "colab": {
          "base_uri": "https://localhost:8080/"
        },
        "id": "2bb2ab51",
        "outputId": "9c10848b-5e73-4a78-a98c-86cf77aa3ee7"
      },
      "outputs": [
        {
          "data": {
            "text/plain": [
              "movie_name\n",
              "Amsterdam            700\n",
              "The Last Duel        700\n",
              "West Side Story      700\n",
              "Mortal Engines       700\n",
              "Pan                  700\n",
              "Jupiter Ascending    700\n",
              "Strange World        700\n",
              "Moonfall             700\n",
              "Cats                 700\n",
              "Monster Truck        700\n",
              "Name: count, dtype: int64"
            ]
          },
          "execution_count": 12,
          "metadata": {},
          "output_type": "execute_result"
        }
      ],
      "source": [
        "df = subsetting_df(cleaned_movies_df,700)\n",
        "\n",
        "df.movie_name.value_counts()"
      ]
    },
    {
      "cell_type": "code",
      "execution_count": null,
      "id": "5fbb68ff",
      "metadata": {
        "id": "5fbb68ff"
      },
      "outputs": [],
      "source": [
        "df = df.reset_index(drop =True).reset_index()"
      ]
    },
    {
      "cell_type": "code",
      "execution_count": null,
      "id": "1d5de07c",
      "metadata": {
        "id": "1d5de07c"
      },
      "outputs": [],
      "source": [
        "df = df.rename(columns={'index': 'Id'})"
      ]
    },
    {
      "cell_type": "code",
      "execution_count": null,
      "id": "55081a94",
      "metadata": {
        "colab": {
          "base_uri": "https://localhost:8080/",
          "height": 206
        },
        "id": "55081a94",
        "outputId": "f3d46c38-f1ca-4301-c57b-3683b63e8208"
      },
      "outputs": [
        {
          "data": {
            "text/html": [
              "<div>\n",
              "<style scoped>\n",
              "    .dataframe tbody tr th:only-of-type {\n",
              "        vertical-align: middle;\n",
              "    }\n",
              "\n",
              "    .dataframe tbody tr th {\n",
              "        vertical-align: top;\n",
              "    }\n",
              "\n",
              "    .dataframe thead th {\n",
              "        text-align: right;\n",
              "    }\n",
              "</style>\n",
              "<table border=\"1\" class=\"dataframe\">\n",
              "  <thead>\n",
              "    <tr style=\"text-align: right;\">\n",
              "      <th></th>\n",
              "      <th>Id</th>\n",
              "      <th>author</th>\n",
              "      <th>updated_at</th>\n",
              "      <th>like_count</th>\n",
              "      <th>text</th>\n",
              "      <th>public</th>\n",
              "      <th>movie_name</th>\n",
              "    </tr>\n",
              "  </thead>\n",
              "  <tbody>\n",
              "    <tr>\n",
              "      <th>0</th>\n",
              "      <td>0</td>\n",
              "      <td>@klararusiti4043</td>\n",
              "      <td>2022-07-08T03:03:10Z</td>\n",
              "      <td>1</td>\n",
              "      <td>105 THATS TIMMY THATS MY TIMMY!</td>\n",
              "      <td>True</td>\n",
              "      <td>Amsterdam</td>\n",
              "    </tr>\n",
              "    <tr>\n",
              "      <th>1</th>\n",
              "      <td>1</td>\n",
              "      <td>@ztswift</td>\n",
              "      <td>2022-07-06T18:22:14Z</td>\n",
              "      <td>1</td>\n",
              "      <td>THE CAST</td>\n",
              "      <td>True</td>\n",
              "      <td>Amsterdam</td>\n",
              "    </tr>\n",
              "    <tr>\n",
              "      <th>2</th>\n",
              "      <td>2</td>\n",
              "      <td>@MrWatchowtnow</td>\n",
              "      <td>2022-09-24T20:21:43Z</td>\n",
              "      <td>2</td>\n",
              "      <td>Man that forced diversity rule really ruins th...</td>\n",
              "      <td>True</td>\n",
              "      <td>Amsterdam</td>\n",
              "    </tr>\n",
              "    <tr>\n",
              "      <th>3</th>\n",
              "      <td>3</td>\n",
              "      <td>@jaydeeppatil1488</td>\n",
              "      <td>2022-07-07T16:52:13Z</td>\n",
              "      <td>1</td>\n",
              "      <td>Movies nowadays are getting so bad its beyond ...</td>\n",
              "      <td>True</td>\n",
              "      <td>Amsterdam</td>\n",
              "    </tr>\n",
              "    <tr>\n",
              "      <th>4</th>\n",
              "      <td>4</td>\n",
              "      <td>@DragonboltBlastter</td>\n",
              "      <td>2023-09-23T22:01:53Z</td>\n",
              "      <td>1</td>\n",
              "      <td>This movie is not realistic enough, needs more...</td>\n",
              "      <td>True</td>\n",
              "      <td>Amsterdam</td>\n",
              "    </tr>\n",
              "  </tbody>\n",
              "</table>\n",
              "</div>"
            ],
            "text/plain": [
              "   Id               author            updated_at  like_count  \\\n",
              "0   0     @klararusiti4043  2022-07-08T03:03:10Z           1   \n",
              "1   1             @ztswift  2022-07-06T18:22:14Z           1   \n",
              "2   2       @MrWatchowtnow  2022-09-24T20:21:43Z           2   \n",
              "3   3    @jaydeeppatil1488  2022-07-07T16:52:13Z           1   \n",
              "4   4  @DragonboltBlastter  2023-09-23T22:01:53Z           1   \n",
              "\n",
              "                                                text  public movie_name  \n",
              "0                    105 THATS TIMMY THATS MY TIMMY!    True  Amsterdam  \n",
              "1                                           THE CAST    True  Amsterdam  \n",
              "2  Man that forced diversity rule really ruins th...    True  Amsterdam  \n",
              "3  Movies nowadays are getting so bad its beyond ...    True  Amsterdam  \n",
              "4  This movie is not realistic enough, needs more...    True  Amsterdam  "
            ]
          },
          "execution_count": 15,
          "metadata": {},
          "output_type": "execute_result"
        }
      ],
      "source": [
        "df.head()"
      ]
    },
    {
      "cell_type": "markdown",
      "id": "df7ebff4",
      "metadata": {
        "id": "df7ebff4"
      },
      "source": [
        "# Using NLTK(Vaders Algo) & Transformer (RoBERTa)"
      ]
    },
    {
      "cell_type": "code",
      "execution_count": null,
      "id": "37c2d5f6",
      "metadata": {
        "id": "37c2d5f6"
      },
      "outputs": [],
      "source": [
        "MODEL = f\"cardiffnlp/twitter-roberta-base-sentiment\"\n",
        "tokenizer = AutoTokenizer.from_pretrained(MODEL)\n",
        "model = AutoModelForSequenceClassification.from_pretrained(MODEL)"
      ]
    },
    {
      "cell_type": "code",
      "execution_count": null,
      "id": "1253bac1",
      "metadata": {
        "id": "1253bac1"
      },
      "outputs": [],
      "source": [
        "def polarity_scores_roberta(example):\n",
        "    encoded_text = tokenizer(example, return_tensors='pt')\n",
        "    output = model(**encoded_text)\n",
        "    scores = output[0][0].detach().numpy()\n",
        "    scores = softmax(scores)\n",
        "    scores_dict = {\n",
        "        'roberta_neg' : scores[0],\n",
        "        'roberta_neu' : scores[1],\n",
        "        'roberta_pos' : scores[2]\n",
        "    }\n",
        "    return scores_dict"
      ]
    },
    {
      "cell_type": "code",
      "execution_count": null,
      "id": "dde9e695",
      "metadata": {
        "id": "dde9e695"
      },
      "outputs": [],
      "source": [
        "def sentiment_analyser(df):\n",
        "    sia = SentimentIntensityAnalyzer()\n",
        "    res = {}\n",
        "    for i, row in tqdm(df.iterrows(), total=len(df)):\n",
        "        try:\n",
        "            text = row['text']\n",
        "            myid = row['Id']\n",
        "            vader_result = sia.polarity_scores(text) # using SIA from NLTK\n",
        "            vader_result_rename = {}\n",
        "            for key, value in vader_result.items():\n",
        "                vader_result_rename[f\"vader_{key}\"] = value\n",
        "            roberta_result = polarity_scores_roberta(text) # using roberta from Cardiff transformer\n",
        "            both = {**vader_result_rename, **roberta_result}\n",
        "            res[myid] = both\n",
        "        except RuntimeError:\n",
        "            print(f'Broke for id {myid}')\n",
        "    temp_df = pd.DataFrame(res).T\n",
        "    temp_df = temp_df.reset_index().rename(columns={'index': 'Id'})\n",
        "    results_df = temp_df.merge(df, how='left')\n",
        "    return results_df"
      ]
    },
    {
      "cell_type": "code",
      "execution_count": null,
      "id": "7f5f9a42",
      "metadata": {
        "id": "7f5f9a42"
      },
      "outputs": [],
      "source": [
        "def vader_sentiment_colADD(vader_df, vader_threshold):\n",
        "    '''\n",
        "    vader_df : subset of vader_data fvrom result_df\n",
        "    vader_threshold : threshold used to segregrate three categories[pos, neg, neu]\n",
        "    '''\n",
        "    # Create a mask for positive values\n",
        "    pos_mask = vader_df['vader_compound'] > vader_threshold\n",
        "\n",
        "    # Create a mask for negative values\n",
        "    neg_mask = vader_df['vader_compound'] < -vader_threshold\n",
        "\n",
        "    # Assign 'positive' to the rows where pos_mask is True\n",
        "    vader_df.loc[pos_mask, 'vader_sentiment'] = 'positive'\n",
        "\n",
        "    # Assign 'negative' to the rows where neg_mask is True\n",
        "    vader_df.loc[neg_mask, 'vader_sentiment'] = 'negative'\n",
        "\n",
        "    # Assign 'neutral' to the remaining rows\n",
        "    vader_df.loc[~(pos_mask | neg_mask), 'vader_sentiment'] = 'neutral'\n",
        "\n",
        "    return vader_df\n",
        ""
      ]
    },
    {
      "cell_type": "code",
      "execution_count": null,
      "id": "c602ee4e",
      "metadata": {
        "id": "c602ee4e"
      },
      "outputs": [],
      "source": [
        "def roberta_sentiment_colADD(roberta_df):\n",
        "    '''\n",
        "    roberta_df : subset of roberta_data from result_df\n",
        "    '''\n",
        "    max_column = roberta_df[['roberta_neg', 'roberta_neu', 'roberta_pos']].idxmax(axis=1)\n",
        "\n",
        "    roberta_df['Max_Column'] = max_column\n",
        "\n",
        "    # Create a mask for negative values\n",
        "    neg_mask = roberta_df['Max_Column'] == 'roberta_neg'\n",
        "\n",
        "    # Create a mask for neutral values\n",
        "    neu_mask = roberta_df['Max_Column'] == 'roberta_neu'\n",
        "\n",
        "    # Assign 'negative' to the rows where neg_mask is True\n",
        "    roberta_df.loc[neg_mask, 'roberta_sentiment'] = 'negative'\n",
        "\n",
        "    # Assign 'neutral' to the rows where neu_mask is True\n",
        "    roberta_df.loc[neu_mask, 'roberta_sentiment'] = 'neutral'\n",
        "\n",
        "    # Assign 'positive' to the remaining rows\n",
        "    roberta_df.loc[~(neg_mask | neu_mask), 'roberta_sentiment'] = 'positive'\n",
        "\n",
        "    return roberta_df"
      ]
    },
    {
      "cell_type": "code",
      "execution_count": null,
      "id": "3a1043f7",
      "metadata": {
        "id": "3a1043f7"
      },
      "outputs": [],
      "source": [
        "def algo_result(algo_df,algo_name):\n",
        "    '''\n",
        "    algo_df : df after adding the sentiment column to any of the algo\n",
        "    algo_name : 'roberta' OR 'vader' - can contain value only from this\n",
        "    '''\n",
        "    m_names = vader_df['movie_name'].unique()\n",
        "    algo_dic={}\n",
        "    for i in m_names:\n",
        "        tem_algo_df = algo_df[algo_df['movie_name'] == i]\n",
        "        mode = tem_algo_df[f'{algo_name}_sentiment'].mode()[0]\n",
        "        algo_dic[i]=mode\n",
        "\n",
        "    algo_result = pd.DataFrame(algo_dic,index=[0]).T.reset_index().rename(columns={0: \"Sentiment\",'index' : 'Movie'})\n",
        "    return algo_result\n",
        "\n",
        ""
      ]
    },
    {
      "cell_type": "code",
      "execution_count": null,
      "id": "f056ce22",
      "metadata": {
        "colab": {
          "referenced_widgets": [
            "78a5d017475d47c5a1202ba132263708"
          ]
        },
        "id": "f056ce22",
        "outputId": "51a1c181-5836-4d0e-cfb7-5b2e5f21249e"
      },
      "outputs": [
        {
          "data": {
            "application/vnd.jupyter.widget-view+json": {
              "model_id": "78a5d017475d47c5a1202ba132263708",
              "version_major": 2,
              "version_minor": 0
            },
            "text/plain": [
              "  0%|          | 0/7000 [00:00<?, ?it/s]"
            ]
          },
          "metadata": {},
          "output_type": "display_data"
        },
        {
          "name": "stdout",
          "output_type": "stream",
          "text": [
            "Broke for id 2746\n",
            "Broke for id 3963\n",
            "Broke for id 4096\n",
            "Broke for id 4564\n"
          ]
        }
      ],
      "source": [
        "results_df = sentiment_analyser(df)"
      ]
    },
    {
      "cell_type": "code",
      "execution_count": null,
      "id": "e5987514",
      "metadata": {
        "id": "e5987514"
      },
      "outputs": [],
      "source": [
        "vader_df=results_df[['movie_name','text','vader_neg','vader_neu','vader_pos','vader_compound']]\n",
        "vader_df = vader_sentiment_colADD(vader_df, 0.1)"
      ]
    },
    {
      "cell_type": "code",
      "execution_count": null,
      "id": "f2bcab89",
      "metadata": {
        "scrolled": true,
        "id": "f2bcab89"
      },
      "outputs": [],
      "source": [
        "roberta_df=results_df[['movie_name','text','roberta_neg','roberta_neu','roberta_pos']]\n",
        "\n",
        "roberta_df = roberta_sentiment_colADD(roberta_df)"
      ]
    },
    {
      "cell_type": "markdown",
      "source": [
        "# Results from Vader (NLTK)"
      ],
      "metadata": {
        "id": "obfeDaDFT8XI"
      },
      "id": "obfeDaDFT8XI"
    },
    {
      "cell_type": "code",
      "execution_count": null,
      "id": "a422a4f5",
      "metadata": {
        "id": "a422a4f5",
        "outputId": "43bcf157-bda1-4d0b-86f8-fcecf5a9624c"
      },
      "outputs": [
        {
          "data": {
            "text/html": [
              "<div>\n",
              "<style scoped>\n",
              "    .dataframe tbody tr th:only-of-type {\n",
              "        vertical-align: middle;\n",
              "    }\n",
              "\n",
              "    .dataframe tbody tr th {\n",
              "        vertical-align: top;\n",
              "    }\n",
              "\n",
              "    .dataframe thead th {\n",
              "        text-align: right;\n",
              "    }\n",
              "</style>\n",
              "<table border=\"1\" class=\"dataframe\">\n",
              "  <thead>\n",
              "    <tr style=\"text-align: right;\">\n",
              "      <th></th>\n",
              "      <th>Movie</th>\n",
              "      <th>Sentiment</th>\n",
              "    </tr>\n",
              "  </thead>\n",
              "  <tbody>\n",
              "    <tr>\n",
              "      <th>0</th>\n",
              "      <td>Amsterdam</td>\n",
              "      <td>positive</td>\n",
              "    </tr>\n",
              "    <tr>\n",
              "      <th>1</th>\n",
              "      <td>The Last Duel</td>\n",
              "      <td>positive</td>\n",
              "    </tr>\n",
              "    <tr>\n",
              "      <th>2</th>\n",
              "      <td>West Side Story</td>\n",
              "      <td>positive</td>\n",
              "    </tr>\n",
              "    <tr>\n",
              "      <th>3</th>\n",
              "      <td>Mortal Engines</td>\n",
              "      <td>neutral</td>\n",
              "    </tr>\n",
              "    <tr>\n",
              "      <th>4</th>\n",
              "      <td>Pan</td>\n",
              "      <td>positive</td>\n",
              "    </tr>\n",
              "    <tr>\n",
              "      <th>5</th>\n",
              "      <td>Jupiter Ascending</td>\n",
              "      <td>positive</td>\n",
              "    </tr>\n",
              "    <tr>\n",
              "      <th>6</th>\n",
              "      <td>Strange World</td>\n",
              "      <td>positive</td>\n",
              "    </tr>\n",
              "    <tr>\n",
              "      <th>7</th>\n",
              "      <td>Moonfall</td>\n",
              "      <td>positive</td>\n",
              "    </tr>\n",
              "    <tr>\n",
              "      <th>8</th>\n",
              "      <td>Cats</td>\n",
              "      <td>neutral</td>\n",
              "    </tr>\n",
              "    <tr>\n",
              "      <th>9</th>\n",
              "      <td>Monster Truck</td>\n",
              "      <td>positive</td>\n",
              "    </tr>\n",
              "  </tbody>\n",
              "</table>\n",
              "</div>"
            ],
            "text/plain": [
              "               Movie Sentiment\n",
              "0          Amsterdam  positive\n",
              "1      The Last Duel  positive\n",
              "2    West Side Story  positive\n",
              "3     Mortal Engines   neutral\n",
              "4                Pan  positive\n",
              "5  Jupiter Ascending  positive\n",
              "6      Strange World  positive\n",
              "7           Moonfall  positive\n",
              "8               Cats   neutral\n",
              "9      Monster Truck  positive"
            ]
          },
          "execution_count": 52,
          "metadata": {},
          "output_type": "execute_result"
        }
      ],
      "source": [
        "vader_movie_result = algo_result(vader_df,'vader')\n",
        "vader_movie_result"
      ]
    },
    {
      "cell_type": "markdown",
      "source": [
        "# Results from Roberta (CardiffNLP) - Using Transformer"
      ],
      "metadata": {
        "id": "PvuRF1jHUDbE"
      },
      "id": "PvuRF1jHUDbE"
    },
    {
      "cell_type": "code",
      "execution_count": null,
      "id": "69326f15",
      "metadata": {
        "id": "69326f15",
        "outputId": "ebdc53c4-075f-47d3-d04f-d6dba3951d10"
      },
      "outputs": [
        {
          "data": {
            "text/html": [
              "<div>\n",
              "<style scoped>\n",
              "    .dataframe tbody tr th:only-of-type {\n",
              "        vertical-align: middle;\n",
              "    }\n",
              "\n",
              "    .dataframe tbody tr th {\n",
              "        vertical-align: top;\n",
              "    }\n",
              "\n",
              "    .dataframe thead th {\n",
              "        text-align: right;\n",
              "    }\n",
              "</style>\n",
              "<table border=\"1\" class=\"dataframe\">\n",
              "  <thead>\n",
              "    <tr style=\"text-align: right;\">\n",
              "      <th></th>\n",
              "      <th>Movie</th>\n",
              "      <th>Sentiment</th>\n",
              "    </tr>\n",
              "  </thead>\n",
              "  <tbody>\n",
              "    <tr>\n",
              "      <th>0</th>\n",
              "      <td>Amsterdam</td>\n",
              "      <td>neutral</td>\n",
              "    </tr>\n",
              "    <tr>\n",
              "      <th>1</th>\n",
              "      <td>The Last Duel</td>\n",
              "      <td>neutral</td>\n",
              "    </tr>\n",
              "    <tr>\n",
              "      <th>2</th>\n",
              "      <td>West Side Story</td>\n",
              "      <td>positive</td>\n",
              "    </tr>\n",
              "    <tr>\n",
              "      <th>3</th>\n",
              "      <td>Mortal Engines</td>\n",
              "      <td>neutral</td>\n",
              "    </tr>\n",
              "    <tr>\n",
              "      <th>4</th>\n",
              "      <td>Pan</td>\n",
              "      <td>neutral</td>\n",
              "    </tr>\n",
              "    <tr>\n",
              "      <th>5</th>\n",
              "      <td>Jupiter Ascending</td>\n",
              "      <td>negative</td>\n",
              "    </tr>\n",
              "    <tr>\n",
              "      <th>6</th>\n",
              "      <td>Strange World</td>\n",
              "      <td>negative</td>\n",
              "    </tr>\n",
              "    <tr>\n",
              "      <th>7</th>\n",
              "      <td>Moonfall</td>\n",
              "      <td>negative</td>\n",
              "    </tr>\n",
              "    <tr>\n",
              "      <th>8</th>\n",
              "      <td>Cats</td>\n",
              "      <td>negative</td>\n",
              "    </tr>\n",
              "    <tr>\n",
              "      <th>9</th>\n",
              "      <td>Monster Truck</td>\n",
              "      <td>neutral</td>\n",
              "    </tr>\n",
              "  </tbody>\n",
              "</table>\n",
              "</div>"
            ],
            "text/plain": [
              "               Movie Sentiment\n",
              "0          Amsterdam   neutral\n",
              "1      The Last Duel   neutral\n",
              "2    West Side Story  positive\n",
              "3     Mortal Engines   neutral\n",
              "4                Pan   neutral\n",
              "5  Jupiter Ascending  negative\n",
              "6      Strange World  negative\n",
              "7           Moonfall  negative\n",
              "8               Cats  negative\n",
              "9      Monster Truck   neutral"
            ]
          },
          "execution_count": 53,
          "metadata": {},
          "output_type": "execute_result"
        }
      ],
      "source": [
        "roberta_movie_result = algo_result(roberta_df,'roberta')\n",
        "roberta_movie_result"
      ]
    }
  ],
  "metadata": {
    "kernelspec": {
      "display_name": "Python 3 (ipykernel)",
      "language": "python",
      "name": "python3"
    },
    "language_info": {
      "codemirror_mode": {
        "name": "ipython",
        "version": 3
      },
      "file_extension": ".py",
      "mimetype": "text/x-python",
      "name": "python",
      "nbconvert_exporter": "python",
      "pygments_lexer": "ipython3",
      "version": "3.11.5"
    },
    "colab": {
      "provenance": [],
      "include_colab_link": true
    }
  },
  "nbformat": 4,
  "nbformat_minor": 5
}